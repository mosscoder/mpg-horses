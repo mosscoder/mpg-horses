{
 "cells": [
  {
   "cell_type": "code",
   "execution_count": null,
   "metadata": {},
   "outputs": [],
   "source": [
    "#see https://colab.research.google.com/drive/15LFRMVOfEiF__FswVqTQstZC5ocC6Ur0?usp=sharing for cropping functions, may require modification\n",
    "\n",
    "# for each drone_survey:\n",
    "#     for each row in ground truth:\n",
    "#         crop rgb_tile from drone_survey\n",
    "#         save tile to data/raster/tiles/drone_survey/idx.tif\n"
   ]
  }
 ],
 "metadata": {
  "kernelspec": {
   "display_name": "mpg-horses",
   "language": "python",
   "name": "python3"
  },
  "language_info": {
   "name": "python",
   "version": "3.10.16"
  }
 },
 "nbformat": 4,
 "nbformat_minor": 2
}
