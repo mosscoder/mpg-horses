{
 "cells": [
  {
   "cell_type": "markdown",
   "metadata": {},
   "source": [
    "# Setup"
   ]
  },
  {
   "cell_type": "code",
   "execution_count": 34,
   "metadata": {},
   "outputs": [],
   "source": [
    "import os\n",
    "import geopandas as gpd\n",
    "import pandas as pd\n",
    "import subprocess\n",
    "import uuid"
   ]
  },
  {
   "cell_type": "code",
   "execution_count": 9,
   "metadata": {},
   "outputs": [],
   "source": [
    "# External data download directory\n",
    "raw_dir = \"../data/raw\"\n",
    "\n",
    "# Create raw data directory if it doesn't exist\n",
    "os.makedirs(raw_dir, exist_ok=True)"
   ]
  },
  {
   "cell_type": "markdown",
   "metadata": {},
   "source": [
    "# Source"
   ]
  },
  {
   "cell_type": "code",
   "execution_count": 4,
   "metadata": {},
   "outputs": [],
   "source": [
    "# list all sources of ground truth files\n",
    "src_presence = [\"gs://mpg-aerial-survey/ground_truth/horsepile/processed/horse_pile_presence.csv\"]\n",
    "src_absence = [\"gs://mpg-aerial-survey/ground_truth/horsepile/processed/horse_pile_absence.csv\"]"
   ]
  },
  {
   "cell_type": "code",
   "execution_count": null,
   "metadata": {},
   "outputs": [],
   "source": [
    "# Download presence files\n",
    "for file_path in src_presence:\n",
    "    dest_filename = os.path.join(raw_dir, os.path.basename(file_path))\n",
    "    subprocess.run([\n",
    "        \"gsutil\", \"cp\",\n",
    "        file_path,\n",
    "        dest_filename\n",
    "    ])\n",
    "    print(f\"Downloaded {file_path} to {dest_filename}\")\n",
    "\n",
    "# Download absence files\n",
    "for file_path in src_absence:\n",
    "    dest_filename = os.path.join(raw_dir, os.path.basename(file_path))\n",
    "    subprocess.run([\n",
    "        \"gsutil\", \"cp\",\n",
    "        file_path,\n",
    "        dest_filename\n",
    "    ])\n",
    "    print(f\"Downloaded {file_path} to {dest_filename}\")\n",
    "\n"
   ]
  },
  {
   "cell_type": "markdown",
   "metadata": {},
   "source": [
    "# Wrangle"
   ]
  },
  {
   "cell_type": "markdown",
   "metadata": {},
   "source": [
    "### Key metadata notes:\n",
    "- index\n",
    "- Presence\n",
    "- Zone\n",
    "- Period\n",
    "- Datetime\n",
    "- Latitude\n",
    "- Longitude\n",
    "- Ellipsoidal height"
   ]
  },
  {
   "cell_type": "markdown",
   "metadata": {},
   "source": [
    "## Features"
   ]
  },
  {
   "cell_type": "code",
   "execution_count": 65,
   "metadata": {},
   "outputs": [],
   "source": [
    "# Read presence and absence files in DataFrames\n",
    "df_presence = pd.read_csv(os.path.join(raw_dir, \"horse_pile_presence.csv\"))\n",
    "df_absence = pd.read_csv(os.path.join(raw_dir, \"horse_pile_absence.csv\"))"
   ]
  },
  {
   "cell_type": "code",
   "execution_count": 66,
   "metadata": {},
   "outputs": [],
   "source": [
    "# Create presence/absence column (1 or 0)\n",
    "df_presence['Presence'] = 1\n",
    "df_absence['Presence'] = 0"
   ]
  },
  {
   "cell_type": "code",
   "execution_count": 67,
   "metadata": {},
   "outputs": [],
   "source": [
    "# Cast presence Averaging start to MST datetime and convert to UTC\n",
    "df_presence['Averaging start'] = pd.to_datetime(df_presence['Averaging start'], format='mixed')\n",
    "df_presence['Averaging start'] = df_presence['Averaging start'].dt.tz_convert('UTC')"
   ]
  },
  {
   "cell_type": "code",
   "execution_count": 68,
   "metadata": {},
   "outputs": [],
   "source": [
    "# Set absence Averaging start to 240724 12:00:00 MST cast to UTC datetime \n",
    "df_absence['Averaging start'] = pd.to_datetime('2024-07-24 12:00:00')  # Create naive datetime\n",
    "df_absence['Averaging start'] = df_absence['Averaging start'].dt.tz_localize('US/Mountain')  # Localize to MST\n",
    "df_absence['Averaging start'] = df_absence['Averaging start'].dt.tz_convert('UTC')  # Convert to UTC"
   ]
  },
  {
   "cell_type": "code",
   "execution_count": 69,
   "metadata": {},
   "outputs": [],
   "source": [
    "# Rename Averaging start to datetime\n",
    "df_presence.rename(columns={'Averaging start': 'Datetime'}, inplace=True)\n",
    "df_absence.rename(columns={'Averaging start': 'Datetime'}, inplace=True)"
   ]
  },
  {
   "cell_type": "code",
   "execution_count": 71,
   "metadata": {},
   "outputs": [],
   "source": [
    "# Create unique 6-character index for presence and absence\n",
    "df_presence['index'] = [str(uuid.uuid4())[:6] for _ in range(len(df_presence))]\n",
    "df_absence['index'] = [str(uuid.uuid4())[:6] for _ in range(len(df_absence))]\n",
    "\n",
    "# Set index\n",
    "df_presence.set_index('index', inplace=True)\n",
    "df_absence.set_index('index', inplace=True)"
   ]
  },
  {
   "cell_type": "markdown",
   "metadata": {},
   "source": [
    "## Concatenate"
   ]
  },
  {
   "cell_type": "code",
   "execution_count": 72,
   "metadata": {},
   "outputs": [
    {
     "name": "stdout",
     "output_type": "stream",
     "text": [
      "Total records: 1600\n",
      "Presence records: 884\n",
      "Absence records: 716\n"
     ]
    }
   ],
   "source": [
    "# Concatenate presence and absence files\n",
    "df_ground_truth = pd.concat([df_presence, df_absence])\n",
    "\n",
    "# Print total records\n",
    "print(f\"Total records: {len(df_ground_truth)}\")\n",
    "print(f\"Presence records: {len(df_presence)}\")\n",
    "print(f\"Absence records: {len(df_absence)}\")\n"
   ]
  },
  {
   "cell_type": "code",
   "execution_count": 76,
   "metadata": {},
   "outputs": [],
   "source": [
    "# Keep relevant columns\n",
    "df_relevant = df_ground_truth[['Presence', 'Zone', 'Period', 'Datetime', \n",
    "                              'Latitude', 'Longitude', 'Ellipsoidal height']].copy()"
   ]
  },
  {
   "cell_type": "code",
   "execution_count": 79,
   "metadata": {},
   "outputs": [],
   "source": [
    "# Cast to Int64 (nullable integer type) instead of int64\n",
    "df_relevant['Presence'] = df_relevant['Period'].astype('Int64')\n",
    "df_relevant['Zone'] = df_relevant['Zone'].astype('Int64')\n",
    "df_relevant['Period'] = df_relevant['Period'].astype('Int64')"
   ]
  },
  {
   "cell_type": "code",
   "execution_count": 80,
   "metadata": {},
   "outputs": [
    {
     "name": "stdout",
     "output_type": "stream",
     "text": [
      "<class 'pandas.core.frame.DataFrame'>\n",
      "Index: 1600 entries, a1c822 to e79209\n",
      "Data columns (total 7 columns):\n",
      " #   Column              Non-Null Count  Dtype              \n",
      "---  ------              --------------  -----              \n",
      " 0   Presence            884 non-null    Int64              \n",
      " 1   Zone                884 non-null    Int64              \n",
      " 2   Period              884 non-null    Int64              \n",
      " 3   Datetime            1600 non-null   datetime64[ns, UTC]\n",
      " 4   Latitude            1600 non-null   float64            \n",
      " 5   Longitude           1600 non-null   float64            \n",
      " 6   Ellipsoidal height  1600 non-null   float64            \n",
      "dtypes: Int64(3), datetime64[ns, UTC](1), float64(3)\n",
      "memory usage: 104.7+ KB\n"
     ]
    }
   ],
   "source": [
    "df_relevant.info()"
   ]
  },
  {
   "cell_type": "code",
   "execution_count": 81,
   "metadata": {},
   "outputs": [
    {
     "data": {
      "text/html": [
       "<div>\n",
       "<style scoped>\n",
       "    .dataframe tbody tr th:only-of-type {\n",
       "        vertical-align: middle;\n",
       "    }\n",
       "\n",
       "    .dataframe tbody tr th {\n",
       "        vertical-align: top;\n",
       "    }\n",
       "\n",
       "    .dataframe thead th {\n",
       "        text-align: right;\n",
       "    }\n",
       "</style>\n",
       "<table border=\"1\" class=\"dataframe\">\n",
       "  <thead>\n",
       "    <tr style=\"text-align: right;\">\n",
       "      <th></th>\n",
       "      <th>Presence</th>\n",
       "      <th>Zone</th>\n",
       "      <th>Period</th>\n",
       "      <th>Datetime</th>\n",
       "      <th>Latitude</th>\n",
       "      <th>Longitude</th>\n",
       "      <th>Ellipsoidal height</th>\n",
       "    </tr>\n",
       "    <tr>\n",
       "      <th>index</th>\n",
       "      <th></th>\n",
       "      <th></th>\n",
       "      <th></th>\n",
       "      <th></th>\n",
       "      <th></th>\n",
       "      <th></th>\n",
       "      <th></th>\n",
       "    </tr>\n",
       "  </thead>\n",
       "  <tbody>\n",
       "    <tr>\n",
       "      <th>a1c822</th>\n",
       "      <td>1</td>\n",
       "      <td>1</td>\n",
       "      <td>1</td>\n",
       "      <td>2024-04-25 06:25:00.600000+00:00</td>\n",
       "      <td>46.678295</td>\n",
       "      <td>-114.007977</td>\n",
       "      <td>1182.161</td>\n",
       "    </tr>\n",
       "    <tr>\n",
       "      <th>f28d1c</th>\n",
       "      <td>1</td>\n",
       "      <td>1</td>\n",
       "      <td>1</td>\n",
       "      <td>2024-04-25 06:25:24.200000+00:00</td>\n",
       "      <td>46.678261</td>\n",
       "      <td>-114.007970</td>\n",
       "      <td>1181.317</td>\n",
       "    </tr>\n",
       "    <tr>\n",
       "      <th>78b30b</th>\n",
       "      <td>1</td>\n",
       "      <td>1</td>\n",
       "      <td>1</td>\n",
       "      <td>2024-04-25 06:26:14+00:00</td>\n",
       "      <td>46.678299</td>\n",
       "      <td>-114.008067</td>\n",
       "      <td>1181.695</td>\n",
       "    </tr>\n",
       "    <tr>\n",
       "      <th>5e0d15</th>\n",
       "      <td>1</td>\n",
       "      <td>1</td>\n",
       "      <td>1</td>\n",
       "      <td>2024-04-25 06:26:49.400000+00:00</td>\n",
       "      <td>46.678331</td>\n",
       "      <td>-114.008220</td>\n",
       "      <td>1180.652</td>\n",
       "    </tr>\n",
       "    <tr>\n",
       "      <th>751822</th>\n",
       "      <td>1</td>\n",
       "      <td>1</td>\n",
       "      <td>1</td>\n",
       "      <td>2024-04-25 06:27:05.200000+00:00</td>\n",
       "      <td>46.678280</td>\n",
       "      <td>-114.008122</td>\n",
       "      <td>1180.683</td>\n",
       "    </tr>\n",
       "  </tbody>\n",
       "</table>\n",
       "</div>"
      ],
      "text/plain": [
       "        Presence  Zone  Period                         Datetime   Latitude  \\\n",
       "index                                                                        \n",
       "a1c822         1     1       1 2024-04-25 06:25:00.600000+00:00  46.678295   \n",
       "f28d1c         1     1       1 2024-04-25 06:25:24.200000+00:00  46.678261   \n",
       "78b30b         1     1       1        2024-04-25 06:26:14+00:00  46.678299   \n",
       "5e0d15         1     1       1 2024-04-25 06:26:49.400000+00:00  46.678331   \n",
       "751822         1     1       1 2024-04-25 06:27:05.200000+00:00  46.678280   \n",
       "\n",
       "         Longitude  Ellipsoidal height  \n",
       "index                                   \n",
       "a1c822 -114.007977            1182.161  \n",
       "f28d1c -114.007970            1181.317  \n",
       "78b30b -114.008067            1181.695  \n",
       "5e0d15 -114.008220            1180.652  \n",
       "751822 -114.008122            1180.683  "
      ]
     },
     "execution_count": 81,
     "metadata": {},
     "output_type": "execute_result"
    }
   ],
   "source": [
    "df_relevant.head()"
   ]
  },
  {
   "cell_type": "markdown",
   "metadata": {},
   "source": [
    "## Convert to geopandas dataframe\n",
    "Metadata as features, point geometry in EPSG:32611"
   ]
  },
  {
   "cell_type": "code",
   "execution_count": 82,
   "metadata": {},
   "outputs": [
    {
     "name": "stderr",
     "output_type": "stream",
     "text": [
      "/Users/esamsoe/miniforge3/envs/mpg-horses/lib/python3.13/site-packages/pyproj/crs/crs.py:143: FutureWarning: '+init=<authority>:<code>' syntax is deprecated. '<authority>:<code>' is the preferred initialization method. When making the change, be mindful of axis order changes: https://pyproj4.github.io/pyproj/stable/gotchas.html#axis-order-changes-in-proj-6\n",
      "  in_crs_string = _prepare_from_proj_string(in_crs_string)\n"
     ]
    }
   ],
   "source": [
    "# Convert to geopandas dataframe\n",
    "df_gdf = gpd.GeoDataFrame(df_relevant, geometry=gpd.points_from_xy(df_relevant.Longitude, df_relevant.Latitude))\n",
    "df_gdf.crs = {'init': 'epsg:32611'}"
   ]
  },
  {
   "cell_type": "code",
   "execution_count": 83,
   "metadata": {},
   "outputs": [
    {
     "name": "stdout",
     "output_type": "stream",
     "text": [
      "<class 'geopandas.geodataframe.GeoDataFrame'>\n",
      "Index: 1600 entries, a1c822 to e79209\n",
      "Data columns (total 8 columns):\n",
      " #   Column              Non-Null Count  Dtype              \n",
      "---  ------              --------------  -----              \n",
      " 0   Presence            884 non-null    Int64              \n",
      " 1   Zone                884 non-null    Int64              \n",
      " 2   Period              884 non-null    Int64              \n",
      " 3   Datetime            1600 non-null   datetime64[ns, UTC]\n",
      " 4   Latitude            1600 non-null   float64            \n",
      " 5   Longitude           1600 non-null   float64            \n",
      " 6   Ellipsoidal height  1600 non-null   float64            \n",
      " 7   geometry            1600 non-null   geometry           \n",
      "dtypes: Int64(3), datetime64[ns, UTC](1), float64(3), geometry(1)\n",
      "memory usage: 181.7+ KB\n"
     ]
    }
   ],
   "source": [
    "df_gdf.info()"
   ]
  },
  {
   "cell_type": "code",
   "execution_count": 84,
   "metadata": {},
   "outputs": [
    {
     "data": {
      "text/html": [
       "<div>\n",
       "<style scoped>\n",
       "    .dataframe tbody tr th:only-of-type {\n",
       "        vertical-align: middle;\n",
       "    }\n",
       "\n",
       "    .dataframe tbody tr th {\n",
       "        vertical-align: top;\n",
       "    }\n",
       "\n",
       "    .dataframe thead th {\n",
       "        text-align: right;\n",
       "    }\n",
       "</style>\n",
       "<table border=\"1\" class=\"dataframe\">\n",
       "  <thead>\n",
       "    <tr style=\"text-align: right;\">\n",
       "      <th></th>\n",
       "      <th>Presence</th>\n",
       "      <th>Zone</th>\n",
       "      <th>Period</th>\n",
       "      <th>Datetime</th>\n",
       "      <th>Latitude</th>\n",
       "      <th>Longitude</th>\n",
       "      <th>Ellipsoidal height</th>\n",
       "      <th>geometry</th>\n",
       "    </tr>\n",
       "    <tr>\n",
       "      <th>index</th>\n",
       "      <th></th>\n",
       "      <th></th>\n",
       "      <th></th>\n",
       "      <th></th>\n",
       "      <th></th>\n",
       "      <th></th>\n",
       "      <th></th>\n",
       "      <th></th>\n",
       "    </tr>\n",
       "  </thead>\n",
       "  <tbody>\n",
       "    <tr>\n",
       "      <th>a1c822</th>\n",
       "      <td>1</td>\n",
       "      <td>1</td>\n",
       "      <td>1</td>\n",
       "      <td>2024-04-25 06:25:00.600000+00:00</td>\n",
       "      <td>46.678295</td>\n",
       "      <td>-114.007977</td>\n",
       "      <td>1182.161</td>\n",
       "      <td>POINT (-114.008 46.678)</td>\n",
       "    </tr>\n",
       "    <tr>\n",
       "      <th>f28d1c</th>\n",
       "      <td>1</td>\n",
       "      <td>1</td>\n",
       "      <td>1</td>\n",
       "      <td>2024-04-25 06:25:24.200000+00:00</td>\n",
       "      <td>46.678261</td>\n",
       "      <td>-114.007970</td>\n",
       "      <td>1181.317</td>\n",
       "      <td>POINT (-114.008 46.678)</td>\n",
       "    </tr>\n",
       "    <tr>\n",
       "      <th>78b30b</th>\n",
       "      <td>1</td>\n",
       "      <td>1</td>\n",
       "      <td>1</td>\n",
       "      <td>2024-04-25 06:26:14+00:00</td>\n",
       "      <td>46.678299</td>\n",
       "      <td>-114.008067</td>\n",
       "      <td>1181.695</td>\n",
       "      <td>POINT (-114.008 46.678)</td>\n",
       "    </tr>\n",
       "    <tr>\n",
       "      <th>5e0d15</th>\n",
       "      <td>1</td>\n",
       "      <td>1</td>\n",
       "      <td>1</td>\n",
       "      <td>2024-04-25 06:26:49.400000+00:00</td>\n",
       "      <td>46.678331</td>\n",
       "      <td>-114.008220</td>\n",
       "      <td>1180.652</td>\n",
       "      <td>POINT (-114.008 46.678)</td>\n",
       "    </tr>\n",
       "    <tr>\n",
       "      <th>751822</th>\n",
       "      <td>1</td>\n",
       "      <td>1</td>\n",
       "      <td>1</td>\n",
       "      <td>2024-04-25 06:27:05.200000+00:00</td>\n",
       "      <td>46.678280</td>\n",
       "      <td>-114.008122</td>\n",
       "      <td>1180.683</td>\n",
       "      <td>POINT (-114.008 46.678)</td>\n",
       "    </tr>\n",
       "  </tbody>\n",
       "</table>\n",
       "</div>"
      ],
      "text/plain": [
       "        Presence  Zone  Period                         Datetime   Latitude  \\\n",
       "index                                                                        \n",
       "a1c822         1     1       1 2024-04-25 06:25:00.600000+00:00  46.678295   \n",
       "f28d1c         1     1       1 2024-04-25 06:25:24.200000+00:00  46.678261   \n",
       "78b30b         1     1       1        2024-04-25 06:26:14+00:00  46.678299   \n",
       "5e0d15         1     1       1 2024-04-25 06:26:49.400000+00:00  46.678331   \n",
       "751822         1     1       1 2024-04-25 06:27:05.200000+00:00  46.678280   \n",
       "\n",
       "         Longitude  Ellipsoidal height                 geometry  \n",
       "index                                                            \n",
       "a1c822 -114.007977            1182.161  POINT (-114.008 46.678)  \n",
       "f28d1c -114.007970            1181.317  POINT (-114.008 46.678)  \n",
       "78b30b -114.008067            1181.695  POINT (-114.008 46.678)  \n",
       "5e0d15 -114.008220            1180.652  POINT (-114.008 46.678)  \n",
       "751822 -114.008122            1180.683  POINT (-114.008 46.678)  "
      ]
     },
     "execution_count": 84,
     "metadata": {},
     "output_type": "execute_result"
    }
   ],
   "source": [
    "df_gdf.head()"
   ]
  },
  {
   "cell_type": "markdown",
   "metadata": {},
   "source": [
    "# Export"
   ]
  },
  {
   "cell_type": "code",
   "execution_count": 85,
   "metadata": {},
   "outputs": [],
   "source": [
    "# Export to data/processed/vector/groundtruth.geojson\n",
    "processed_dir = \"../data/processed\"\n",
    "df_gdf.to_file(os.path.join(processed_dir, \"vector\", \"groundtruth.geojson\"), driver=\"GeoJSON\")"
   ]
  },
  {
   "cell_type": "code",
   "execution_count": 86,
   "metadata": {},
   "outputs": [
    {
     "name": "stdout",
     "output_type": "stream",
     "text": [
      "Copying file://../data/processed/vector/groundtruth.geojson to gs://mpg-aerial-survey/ground_truth/horsepile/processed/vector/groundtruth.geojson\n",
      "  Completed files 1/1 | 478.3kiB/478.3kiB                                      \n"
     ]
    }
   ],
   "source": [
    "# Upload to GCS using !gcloud\n",
    "!gcloud storage cp {os.path.join(processed_dir, \"vector\", \"groundtruth.geojson\")} gs://mpg-aerial-survey/ground_truth/horsepile/processed/vector/groundtruth.geojson"
   ]
  }
 ],
 "metadata": {
  "kernelspec": {
   "display_name": "mpg-horses",
   "language": "python",
   "name": "python3"
  },
  "language_info": {
   "codemirror_mode": {
    "name": "ipython",
    "version": 3
   },
   "file_extension": ".py",
   "mimetype": "text/x-python",
   "name": "python",
   "nbconvert_exporter": "python",
   "pygments_lexer": "ipython3",
   "version": "3.13.1"
  }
 },
 "nbformat": 4,
 "nbformat_minor": 2
}
