{
 "cells": [
  {
   "cell_type": "markdown",
   "metadata": {},
   "source": [
    "# Setup"
   ]
  },
  {
   "cell_type": "code",
   "execution_count": 13,
   "metadata": {},
   "outputs": [],
   "source": [
    "import os\n",
    "import geopandas as gpd\n",
    "import pandas as pd"
   ]
  },
  {
   "cell_type": "markdown",
   "metadata": {},
   "source": [
    "### Source files downloaded from Google Cloud Storage to ../data/tabular/\n",
    "* gs://mpg-aerial-survey/ground_truth/horsepile/processed/horse_pile_presence.csv\n",
    "* gs://mpg-aerial-survey/ground_truth/horsepile/processed/horse_pile_absence.csv"
   ]
  },
  {
   "cell_type": "code",
   "execution_count": 14,
   "metadata": {},
   "outputs": [],
   "source": [
    "# External data download directory\n",
    "tabular_dir = \"../data/tabular/\""
   ]
  },
  {
   "cell_type": "markdown",
   "metadata": {},
   "source": [
    "# Wrangle"
   ]
  },
  {
   "cell_type": "markdown",
   "metadata": {},
   "source": [
    "### Key metadata notes:\n",
    "- idx\n",
    "- Presence\n",
    "- Zone\n",
    "- Period\n",
    "- Description\n",
    "- Datetime\n",
    "- Latitude\n",
    "- Longitude\n",
    "- Ellipsoidal height"
   ]
  },
  {
   "cell_type": "markdown",
   "metadata": {},
   "source": [
    "## Features"
   ]
  },
  {
   "cell_type": "code",
   "execution_count": 20,
   "metadata": {},
   "outputs": [],
   "source": [
    "# Read presence and absence files in DataFrames\n",
    "df_presence = pd.read_csv(os.path.join(tabular_dir, \"horse_pile_presence.csv\"))\n",
    "df_absence = pd.read_csv(os.path.join(tabular_dir, \"horse_pile_absence.csv\"))"
   ]
  },
  {
   "cell_type": "code",
   "execution_count": 21,
   "metadata": {},
   "outputs": [],
   "source": [
    "# Create presence/absence column (1 or 0)\n",
    "df_presence['Presence'] = 1\n",
    "df_absence['Presence'] = 0"
   ]
  },
  {
   "cell_type": "code",
   "execution_count": 22,
   "metadata": {},
   "outputs": [],
   "source": [
    "# Cast presence Averaging start to MST datetime and convert to UTC\n",
    "df_presence['Averaging start'] = pd.to_datetime(df_presence['Averaging start'], format='mixed')\n",
    "df_presence['Averaging start'] = df_presence['Averaging start'].dt.tz_convert('UTC')"
   ]
  },
  {
   "cell_type": "code",
   "execution_count": 23,
   "metadata": {},
   "outputs": [],
   "source": [
    "# Set absence Averaging start to 240724 12:00:00 MST cast to UTC datetime \n",
    "df_absence['Averaging start'] = pd.to_datetime('2024-07-24 12:00:00')  # Create naive datetime\n",
    "df_absence['Averaging start'] = df_absence['Averaging start'].dt.tz_localize('US/Mountain')  # Localize to MST\n",
    "df_absence['Averaging start'] = df_absence['Averaging start'].dt.tz_convert('UTC')  # Convert to UTC"
   ]
  },
  {
   "cell_type": "code",
   "execution_count": 24,
   "metadata": {},
   "outputs": [],
   "source": [
    "# Rename Averaging start to datetime\n",
    "df_presence.rename(columns={'Averaging start': 'Datetime'}, inplace=True)\n",
    "df_absence.rename(columns={'Averaging start': 'Datetime'}, inplace=True)"
   ]
  },
  {
   "cell_type": "code",
   "execution_count": 25,
   "metadata": {},
   "outputs": [],
   "source": [
    "# Concatenate presence and absence files\n",
    "df_ground_truth = pd.concat([df_presence, df_absence])"
   ]
  },
  {
   "cell_type": "code",
   "execution_count": null,
   "metadata": {},
   "outputs": [],
   "source": [
    "# Create df_ground_truth['idx'] = range(len(df_ground_truth)) padded four digits\n",
    "df_ground_truth['idx'] = [f'{i:04d}' for i in range(len(df_ground_truth))]"
   ]
  },
  {
   "cell_type": "code",
   "execution_count": 28,
   "metadata": {},
   "outputs": [],
   "source": [
    "# Keep relevant columns\n",
    "df_relevant = df_ground_truth[['idx', 'Presence', 'Zone', 'Period', \n",
    "                               'Datetime', 'Latitude', 'Longitude', 'Ellipsoidal height']]"
   ]
  },
  {
   "cell_type": "code",
   "execution_count": 29,
   "metadata": {},
   "outputs": [],
   "source": [
    "# Convert to geopandas dataframe\n",
    "gdf = gpd.GeoDataFrame(df_relevant, geometry=gpd.points_from_xy(df_relevant.Longitude, df_relevant.Latitude))\n",
    "# Set to WGS84 since that's what the coordinates are\n",
    "gdf.set_crs(epsg=4326, inplace=True)\n",
    "# Convert to UTM Zone 11N\n",
    "gdf_utm = gdf.to_crs(epsg=32611)"
   ]
  },
  {
   "cell_type": "code",
   "execution_count": 30,
   "metadata": {},
   "outputs": [],
   "source": [
    "# Use geopandas to create easting and northing columns from latitude and longitude\n",
    "gdf_utm['Easting'] = gdf_utm.geometry.x\n",
    "gdf_utm['Northing'] = gdf_utm.geometry.y"
   ]
  },
  {
   "cell_type": "code",
   "execution_count": null,
   "metadata": {},
   "outputs": [],
   "source": []
  },
  {
   "cell_type": "code",
   "execution_count": 51,
   "metadata": {},
   "outputs": [],
   "source": [
    "# Reorder columns placing Latitude and Longitude and Easting and Northing next to each other\n",
    "gdf_utm = gdf_utm[['idx', 'Presence', 'Zone', 'Period', 'Datetime', \n",
    "                   'Latitude', 'Longitude', 'Easting', 'Northing', \n",
    "                   'Ellipsoidal height', 'geometry']]"
   ]
  },
  {
   "cell_type": "code",
   "execution_count": null,
   "metadata": {},
   "outputs": [],
   "source": [
    "gdf_utm.info()"
   ]
  },
  {
   "cell_type": "code",
   "execution_count": null,
   "metadata": {},
   "outputs": [],
   "source": [
    "gdf_utm.head()"
   ]
  },
  {
   "cell_type": "markdown",
   "metadata": {},
   "source": [
    "# Export"
   ]
  },
  {
   "cell_type": "code",
   "execution_count": 54,
   "metadata": {},
   "outputs": [],
   "source": [
    "# Export to data/vector/groundtruth.geojson\n",
    "processed_dir = \"../data/vector\"\n",
    "gdf_utm.to_file(os.path.join(processed_dir, \"groundtruth.geojson\"), driver=\"GeoJSON\")"
   ]
  },
  {
   "cell_type": "markdown",
   "metadata": {},
   "source": [
    "## save as geojson in data/vector/groundtruth.geojson\n"
   ]
  }
 ],
 "metadata": {
  "kernelspec": {
   "display_name": "mpg-horses",
   "language": "python",
   "name": "python3"
  },
  "language_info": {
   "codemirror_mode": {
    "name": "ipython",
    "version": 3
   },
   "file_extension": ".py",
   "mimetype": "text/x-python",
   "name": "python",
   "nbconvert_exporter": "python",
   "pygments_lexer": "ipython3",
   "version": "3.13.1"
  }
 },
 "nbformat": 4,
 "nbformat_minor": 2
}
