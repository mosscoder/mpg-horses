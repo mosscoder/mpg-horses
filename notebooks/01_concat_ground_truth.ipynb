{
 "cells": [
  {
   "cell_type": "markdown",
   "metadata": {},
   "source": [
    "# Source"
   ]
  },
  {
   "cell_type": "code",
   "execution_count": 2,
   "metadata": {},
   "outputs": [],
   "source": [
    "# list all sources of ground truth files\n",
    "processed_files_presence = [\n",
    "    \"gs://mpg-aerial-survey/ground_truth/horsepile/processed/horse_gt_period-1.csv\",\n",
    "    \"gs://mpg-aerial-survey/ground_truth/horsepile/processed/horse_gt_period-2.csv\", \n",
    "    \"gs://mpg-aerial-survey/ground_truth/horsepile/processed/horse_gt_period-3.csv\"\n",
    "]\n",
    "\n",
    "processed_files_absence = [\n",
    "    \"gs://mpg-aerial-survey/ground_truth/horsepile/processed/horse_pile_absence.csv\"\n",
    "]"
   ]
  },
  {
   "cell_type": "markdown",
   "metadata": {},
   "source": [
    "# Wrangle"
   ]
  },
  {
   "cell_type": "markdown",
   "metadata": {},
   "source": [
    "## concatenate ground truth and relevant metadata (see below)\n",
    "### key metadata:\n",
    "- datetime (YYYYMMDDHHMMSS)\n",
    "- datetime (YYYYMMDDHHMMSS)\n",
    "- presence/absence (1 or 0)\n",
    "- easting (epsg:32611)\n",
    "- northing (epsg:32611)\n",
    "- latitude (epsg:4326)\n",
    "- longitude (epsg:4326)"
   ]
  },
  {
   "cell_type": "code",
   "execution_count": null,
   "metadata": {},
   "outputs": [],
   "source": []
  },
  {
   "cell_type": "markdown",
   "metadata": {},
   "source": [
    "## convert to geopandas dataframe with metadata as features, point geometry in EPSG:32611"
   ]
  },
  {
   "cell_type": "code",
   "execution_count": null,
   "metadata": {},
   "outputs": [],
   "source": []
  },
  {
   "cell_type": "markdown",
   "metadata": {},
   "source": [
    "# Export"
   ]
  },
  {
   "cell_type": "markdown",
   "metadata": {},
   "source": [
    "## save as geojson in data/vector/groundtruth.geojson\n"
   ]
  }
 ],
 "metadata": {
  "kernelspec": {
   "display_name": "base",
   "language": "python",
   "name": "python3"
  },
  "language_info": {
   "codemirror_mode": {
    "name": "ipython",
    "version": 3
   },
   "file_extension": ".py",
   "mimetype": "text/x-python",
   "name": "python",
   "nbconvert_exporter": "python",
   "pygments_lexer": "ipython3",
   "version": "3.12.7"
  }
 },
 "nbformat": 4,
 "nbformat_minor": 2
}
