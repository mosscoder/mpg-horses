{
 "cells": [
  {
   "cell_type": "markdown",
   "metadata": {},
   "source": [
    "# Setup"
   ]
  },
  {
   "cell_type": "code",
   "execution_count": 34,
   "metadata": {},
   "outputs": [],
   "source": [
    "import os\n",
    "import geopandas as gpd\n",
    "import pandas as pd\n",
    "import subprocess\n",
    "import uuid"
   ]
  },
  {
   "cell_type": "code",
   "execution_count": 9,
   "metadata": {},
   "outputs": [],
   "source": [
    "# External data download directory\n",
    "raw_dir = \"../data/raw\"\n",
    "\n",
    "# Create raw data directory if it doesn't exist\n",
    "os.makedirs(raw_dir, exist_ok=True)"
   ]
  },
  {
   "cell_type": "markdown",
   "metadata": {},
   "source": [
    "# Source"
   ]
  },
  {
   "cell_type": "code",
   "execution_count": 4,
   "metadata": {},
   "outputs": [],
   "source": [
    "# list all sources of ground truth files\n",
    "src_presence = [\"gs://mpg-aerial-survey/ground_truth/horsepile/processed/horse_pile_presence.csv\"]\n",
    "src_absence = [\"gs://mpg-aerial-survey/ground_truth/horsepile/processed/horse_pile_absence.csv\"]"
   ]
  },
  {
   "cell_type": "code",
   "execution_count": null,
   "metadata": {},
   "outputs": [],
   "source": [
    "# Download presence files\n",
    "for file_path in src_presence:\n",
    "    dest_filename = os.path.join(raw_dir, os.path.basename(file_path))\n",
    "    subprocess.run([\n",
    "        \"gsutil\", \"cp\",\n",
    "        file_path,\n",
    "        dest_filename\n",
    "    ])\n",
    "    print(f\"Downloaded {file_path} to {dest_filename}\")\n",
    "\n",
    "# Download absence files\n",
    "for file_path in src_absence:\n",
    "    dest_filename = os.path.join(raw_dir, os.path.basename(file_path))\n",
    "    subprocess.run([\n",
    "        \"gsutil\", \"cp\",\n",
    "        file_path,\n",
    "        dest_filename\n",
    "    ])\n",
    "    print(f\"Downloaded {file_path} to {dest_filename}\")\n",
    "\n"
   ]
  },
  {
   "cell_type": "markdown",
   "metadata": {},
   "source": [
    "# Wrangle"
   ]
  },
  {
   "cell_type": "markdown",
   "metadata": {},
   "source": [
    "### Key metadata notes:\n",
    "- index\n",
    "- Presence\n",
    "- Zone\n",
    "- Period\n",
    "- Datetime\n",
    "- Latitude\n",
    "- Longitude\n",
    "- Ellipsoidal height"
   ]
  },
  {
   "cell_type": "markdown",
   "metadata": {},
   "source": [
    "## Features"
   ]
  },
  {
   "cell_type": "code",
   "execution_count": 37,
   "metadata": {},
   "outputs": [],
   "source": [
    "# Read presence and absence files in DataFrames\n",
    "df_presence = pd.read_csv(os.path.join(raw_dir, \"horse_pile_presence.csv\"))\n",
    "df_absence = pd.read_csv(os.path.join(raw_dir, \"horse_pile_absence.csv\"))"
   ]
  },
  {
   "cell_type": "code",
   "execution_count": 38,
   "metadata": {},
   "outputs": [],
   "source": [
    "# Create presence/absence column (1 or 0)\n",
    "df_presence['Presence'] = 1\n",
    "df_absence['Presence'] = 0"
   ]
  },
  {
   "cell_type": "code",
   "execution_count": 39,
   "metadata": {},
   "outputs": [],
   "source": [
    "# Cast presence Averaging start to MST datetime and convert to UTC\n",
    "df_presence['Averaging start'] = pd.to_datetime(df_presence['Averaging start'], format='mixed')\n",
    "df_presence['Averaging start'] = df_presence['Averaging start'].dt.tz_convert('UTC')"
   ]
  },
  {
   "cell_type": "code",
   "execution_count": 40,
   "metadata": {},
   "outputs": [],
   "source": [
    "# Set absence Averaging start to 240724 12:00:00 MST cast to UTC datetime \n",
    "df_absence['Averaging start'] = pd.to_datetime('2024-07-24 12:00:00')  # Create naive datetime\n",
    "df_absence['Averaging start'] = df_absence['Averaging start'].dt.tz_localize('US/Mountain')  # Localize to MST\n",
    "df_absence['Averaging start'] = df_absence['Averaging start'].dt.tz_convert('UTC')  # Convert to UTC"
   ]
  },
  {
   "cell_type": "code",
   "execution_count": 41,
   "metadata": {},
   "outputs": [],
   "source": [
    "# Rename Averaging start to datetime\n",
    "df_presence.rename(columns={'Averaging start': 'Datetime'}, inplace=True)\n",
    "df_absence.rename(columns={'Averaging start': 'Datetime'}, inplace=True)"
   ]
  },
  {
   "cell_type": "code",
   "execution_count": 48,
   "metadata": {},
   "outputs": [],
   "source": [
    "# Create unique 6-character index for presence and absence\n",
    "df_presence['index'] = [str(uuid.uuid4())[:6] for _ in range(len(df_presence))]\n",
    "df_absence['index'] = [str(uuid.uuid4())[:6] for _ in range(len(df_absence))]\n",
    "# Set index\n",
    "df_presence.set_index('index', inplace=True)\n",
    "df_absence.set_index('index', inplace=True)"
   ]
  },
  {
   "cell_type": "markdown",
   "metadata": {},
   "source": [
    "## Concatenate"
   ]
  },
  {
   "cell_type": "code",
   "execution_count": 50,
   "metadata": {},
   "outputs": [
    {
     "name": "stdout",
     "output_type": "stream",
     "text": [
      "Total records: 1600\n",
      "Presence records: 884\n",
      "Absence records: 716\n"
     ]
    }
   ],
   "source": [
    "# Concatenate presence and absence files\n",
    "df_ground_truth = pd.concat([df_presence, df_absence])\n",
    "\n",
    "# Print total records\n",
    "print(f\"Total records: {len(df_ground_truth)}\")\n",
    "print(f\"Presence records: {len(df_presence)}\")\n",
    "print(f\"Absence records: {len(df_absence)}\")\n"
   ]
  },
  {
   "cell_type": "code",
   "execution_count": 51,
   "metadata": {},
   "outputs": [],
   "source": [
    "# Keep relevant columns\n",
    "df_relevant = df_ground_truth[['Presence', 'Zone', 'Period', 'Datetime', 'Latitude', 'Longitude', 'Ellipsoidal height']]"
   ]
  },
  {
   "cell_type": "code",
   "execution_count": 53,
   "metadata": {},
   "outputs": [
    {
     "name": "stdout",
     "output_type": "stream",
     "text": [
      "<class 'pandas.core.frame.DataFrame'>\n",
      "Index: 1600 entries, f3bb1f to 83689e\n",
      "Data columns (total 7 columns):\n",
      " #   Column              Non-Null Count  Dtype              \n",
      "---  ------              --------------  -----              \n",
      " 0   Presence            1600 non-null   int64              \n",
      " 1   Zone                884 non-null    float64            \n",
      " 2   Period              884 non-null    float64            \n",
      " 3   Datetime            1600 non-null   datetime64[ns, UTC]\n",
      " 4   Latitude            1600 non-null   float64            \n",
      " 5   Longitude           1600 non-null   float64            \n",
      " 6   Ellipsoidal height  1600 non-null   float64            \n",
      "dtypes: datetime64[ns, UTC](1), float64(5), int64(1)\n",
      "memory usage: 100.0+ KB\n"
     ]
    }
   ],
   "source": [
    "df_relevant.info()"
   ]
  },
  {
   "cell_type": "code",
   "execution_count": 54,
   "metadata": {},
   "outputs": [
    {
     "data": {
      "text/html": [
       "<div>\n",
       "<style scoped>\n",
       "    .dataframe tbody tr th:only-of-type {\n",
       "        vertical-align: middle;\n",
       "    }\n",
       "\n",
       "    .dataframe tbody tr th {\n",
       "        vertical-align: top;\n",
       "    }\n",
       "\n",
       "    .dataframe thead th {\n",
       "        text-align: right;\n",
       "    }\n",
       "</style>\n",
       "<table border=\"1\" class=\"dataframe\">\n",
       "  <thead>\n",
       "    <tr style=\"text-align: right;\">\n",
       "      <th></th>\n",
       "      <th>Presence</th>\n",
       "      <th>Zone</th>\n",
       "      <th>Period</th>\n",
       "      <th>Datetime</th>\n",
       "      <th>Latitude</th>\n",
       "      <th>Longitude</th>\n",
       "      <th>Ellipsoidal height</th>\n",
       "    </tr>\n",
       "    <tr>\n",
       "      <th>index</th>\n",
       "      <th></th>\n",
       "      <th></th>\n",
       "      <th></th>\n",
       "      <th></th>\n",
       "      <th></th>\n",
       "      <th></th>\n",
       "      <th></th>\n",
       "    </tr>\n",
       "  </thead>\n",
       "  <tbody>\n",
       "    <tr>\n",
       "      <th>f3bb1f</th>\n",
       "      <td>1</td>\n",
       "      <td>1.0</td>\n",
       "      <td>1.0</td>\n",
       "      <td>2024-04-25 06:25:00.600000+00:00</td>\n",
       "      <td>46.678295</td>\n",
       "      <td>-114.007977</td>\n",
       "      <td>1182.161</td>\n",
       "    </tr>\n",
       "    <tr>\n",
       "      <th>699cc7</th>\n",
       "      <td>1</td>\n",
       "      <td>1.0</td>\n",
       "      <td>1.0</td>\n",
       "      <td>2024-04-25 06:25:24.200000+00:00</td>\n",
       "      <td>46.678261</td>\n",
       "      <td>-114.007970</td>\n",
       "      <td>1181.317</td>\n",
       "    </tr>\n",
       "    <tr>\n",
       "      <th>37a932</th>\n",
       "      <td>1</td>\n",
       "      <td>1.0</td>\n",
       "      <td>1.0</td>\n",
       "      <td>2024-04-25 06:26:14+00:00</td>\n",
       "      <td>46.678299</td>\n",
       "      <td>-114.008067</td>\n",
       "      <td>1181.695</td>\n",
       "    </tr>\n",
       "    <tr>\n",
       "      <th>40b8a4</th>\n",
       "      <td>1</td>\n",
       "      <td>1.0</td>\n",
       "      <td>1.0</td>\n",
       "      <td>2024-04-25 06:26:49.400000+00:00</td>\n",
       "      <td>46.678331</td>\n",
       "      <td>-114.008220</td>\n",
       "      <td>1180.652</td>\n",
       "    </tr>\n",
       "    <tr>\n",
       "      <th>75915b</th>\n",
       "      <td>1</td>\n",
       "      <td>1.0</td>\n",
       "      <td>1.0</td>\n",
       "      <td>2024-04-25 06:27:05.200000+00:00</td>\n",
       "      <td>46.678280</td>\n",
       "      <td>-114.008122</td>\n",
       "      <td>1180.683</td>\n",
       "    </tr>\n",
       "  </tbody>\n",
       "</table>\n",
       "</div>"
      ],
      "text/plain": [
       "        Presence  Zone  Period                         Datetime   Latitude  \\\n",
       "index                                                                        \n",
       "f3bb1f         1   1.0     1.0 2024-04-25 06:25:00.600000+00:00  46.678295   \n",
       "699cc7         1   1.0     1.0 2024-04-25 06:25:24.200000+00:00  46.678261   \n",
       "37a932         1   1.0     1.0        2024-04-25 06:26:14+00:00  46.678299   \n",
       "40b8a4         1   1.0     1.0 2024-04-25 06:26:49.400000+00:00  46.678331   \n",
       "75915b         1   1.0     1.0 2024-04-25 06:27:05.200000+00:00  46.678280   \n",
       "\n",
       "         Longitude  Ellipsoidal height  \n",
       "index                                   \n",
       "f3bb1f -114.007977            1182.161  \n",
       "699cc7 -114.007970            1181.317  \n",
       "37a932 -114.008067            1181.695  \n",
       "40b8a4 -114.008220            1180.652  \n",
       "75915b -114.008122            1180.683  "
      ]
     },
     "execution_count": 54,
     "metadata": {},
     "output_type": "execute_result"
    }
   ],
   "source": [
    "df_relevant.head()"
   ]
  },
  {
   "cell_type": "markdown",
   "metadata": {},
   "source": [
    "## Convert to geopandas dataframe\n",
    "Metadata as features, point geometry in EPSG:32611"
   ]
  },
  {
   "cell_type": "code",
   "execution_count": null,
   "metadata": {},
   "outputs": [],
   "source": [
    "# Convert to geopandas dataframe\n",
    "df_gdf = gpd.GeoDataFrame(df_relevant, geometry=gpd.points_from_xy(df_relevant.Longitude, df_relevant.Latitude))\n",
    "df_gdf.crs = {'init': 'epsg:32611'}"
   ]
  },
  {
   "cell_type": "code",
   "execution_count": 58,
   "metadata": {},
   "outputs": [
    {
     "name": "stdout",
     "output_type": "stream",
     "text": [
      "<class 'geopandas.geodataframe.GeoDataFrame'>\n",
      "Index: 1600 entries, f3bb1f to 83689e\n",
      "Data columns (total 8 columns):\n",
      " #   Column              Non-Null Count  Dtype              \n",
      "---  ------              --------------  -----              \n",
      " 0   Presence            1600 non-null   int64              \n",
      " 1   Zone                884 non-null    float64            \n",
      " 2   Period              884 non-null    float64            \n",
      " 3   Datetime            1600 non-null   datetime64[ns, UTC]\n",
      " 4   Latitude            1600 non-null   float64            \n",
      " 5   Longitude           1600 non-null   float64            \n",
      " 6   Ellipsoidal height  1600 non-null   float64            \n",
      " 7   geometry            1600 non-null   geometry           \n",
      "dtypes: datetime64[ns, UTC](1), float64(5), geometry(1), int64(1)\n",
      "memory usage: 177.0+ KB\n"
     ]
    }
   ],
   "source": [
    "df_gdf.info()"
   ]
  },
  {
   "cell_type": "code",
   "execution_count": 59,
   "metadata": {},
   "outputs": [
    {
     "data": {
      "text/html": [
       "<div>\n",
       "<style scoped>\n",
       "    .dataframe tbody tr th:only-of-type {\n",
       "        vertical-align: middle;\n",
       "    }\n",
       "\n",
       "    .dataframe tbody tr th {\n",
       "        vertical-align: top;\n",
       "    }\n",
       "\n",
       "    .dataframe thead th {\n",
       "        text-align: right;\n",
       "    }\n",
       "</style>\n",
       "<table border=\"1\" class=\"dataframe\">\n",
       "  <thead>\n",
       "    <tr style=\"text-align: right;\">\n",
       "      <th></th>\n",
       "      <th>Presence</th>\n",
       "      <th>Zone</th>\n",
       "      <th>Period</th>\n",
       "      <th>Datetime</th>\n",
       "      <th>Latitude</th>\n",
       "      <th>Longitude</th>\n",
       "      <th>Ellipsoidal height</th>\n",
       "      <th>geometry</th>\n",
       "    </tr>\n",
       "    <tr>\n",
       "      <th>index</th>\n",
       "      <th></th>\n",
       "      <th></th>\n",
       "      <th></th>\n",
       "      <th></th>\n",
       "      <th></th>\n",
       "      <th></th>\n",
       "      <th></th>\n",
       "      <th></th>\n",
       "    </tr>\n",
       "  </thead>\n",
       "  <tbody>\n",
       "    <tr>\n",
       "      <th>f3bb1f</th>\n",
       "      <td>1</td>\n",
       "      <td>1.0</td>\n",
       "      <td>1.0</td>\n",
       "      <td>2024-04-25 06:25:00.600000+00:00</td>\n",
       "      <td>46.678295</td>\n",
       "      <td>-114.007977</td>\n",
       "      <td>1182.161</td>\n",
       "      <td>POINT (-114.008 46.678)</td>\n",
       "    </tr>\n",
       "    <tr>\n",
       "      <th>699cc7</th>\n",
       "      <td>1</td>\n",
       "      <td>1.0</td>\n",
       "      <td>1.0</td>\n",
       "      <td>2024-04-25 06:25:24.200000+00:00</td>\n",
       "      <td>46.678261</td>\n",
       "      <td>-114.007970</td>\n",
       "      <td>1181.317</td>\n",
       "      <td>POINT (-114.008 46.678)</td>\n",
       "    </tr>\n",
       "    <tr>\n",
       "      <th>37a932</th>\n",
       "      <td>1</td>\n",
       "      <td>1.0</td>\n",
       "      <td>1.0</td>\n",
       "      <td>2024-04-25 06:26:14+00:00</td>\n",
       "      <td>46.678299</td>\n",
       "      <td>-114.008067</td>\n",
       "      <td>1181.695</td>\n",
       "      <td>POINT (-114.008 46.678)</td>\n",
       "    </tr>\n",
       "    <tr>\n",
       "      <th>40b8a4</th>\n",
       "      <td>1</td>\n",
       "      <td>1.0</td>\n",
       "      <td>1.0</td>\n",
       "      <td>2024-04-25 06:26:49.400000+00:00</td>\n",
       "      <td>46.678331</td>\n",
       "      <td>-114.008220</td>\n",
       "      <td>1180.652</td>\n",
       "      <td>POINT (-114.008 46.678)</td>\n",
       "    </tr>\n",
       "    <tr>\n",
       "      <th>75915b</th>\n",
       "      <td>1</td>\n",
       "      <td>1.0</td>\n",
       "      <td>1.0</td>\n",
       "      <td>2024-04-25 06:27:05.200000+00:00</td>\n",
       "      <td>46.678280</td>\n",
       "      <td>-114.008122</td>\n",
       "      <td>1180.683</td>\n",
       "      <td>POINT (-114.008 46.678)</td>\n",
       "    </tr>\n",
       "  </tbody>\n",
       "</table>\n",
       "</div>"
      ],
      "text/plain": [
       "        Presence  Zone  Period                         Datetime   Latitude  \\\n",
       "index                                                                        \n",
       "f3bb1f         1   1.0     1.0 2024-04-25 06:25:00.600000+00:00  46.678295   \n",
       "699cc7         1   1.0     1.0 2024-04-25 06:25:24.200000+00:00  46.678261   \n",
       "37a932         1   1.0     1.0        2024-04-25 06:26:14+00:00  46.678299   \n",
       "40b8a4         1   1.0     1.0 2024-04-25 06:26:49.400000+00:00  46.678331   \n",
       "75915b         1   1.0     1.0 2024-04-25 06:27:05.200000+00:00  46.678280   \n",
       "\n",
       "         Longitude  Ellipsoidal height                 geometry  \n",
       "index                                                            \n",
       "f3bb1f -114.007977            1182.161  POINT (-114.008 46.678)  \n",
       "699cc7 -114.007970            1181.317  POINT (-114.008 46.678)  \n",
       "37a932 -114.008067            1181.695  POINT (-114.008 46.678)  \n",
       "40b8a4 -114.008220            1180.652  POINT (-114.008 46.678)  \n",
       "75915b -114.008122            1180.683  POINT (-114.008 46.678)  "
      ]
     },
     "execution_count": 59,
     "metadata": {},
     "output_type": "execute_result"
    }
   ],
   "source": [
    "df_gdf.head()"
   ]
  },
  {
   "cell_type": "markdown",
   "metadata": {},
   "source": [
    "# Export"
   ]
  },
  {
   "cell_type": "markdown",
   "metadata": {},
   "source": [
    "## save as geojson in data/vector/groundtruth.geojson\n"
   ]
  }
 ],
 "metadata": {
  "kernelspec": {
   "display_name": "mpg-horses",
   "language": "python",
   "name": "python3"
  },
  "language_info": {
   "codemirror_mode": {
    "name": "ipython",
    "version": 3
   },
   "file_extension": ".py",
   "mimetype": "text/x-python",
   "name": "python",
   "nbconvert_exporter": "python",
   "pygments_lexer": "ipython3",
   "version": "3.13.1"
  }
 },
 "nbformat": 4,
 "nbformat_minor": 2
}
