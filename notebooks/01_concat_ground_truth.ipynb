{
 "cells": [
  {
   "cell_type": "markdown",
   "metadata": {},
   "source": [
    "# Setup"
   ]
  },
  {
   "cell_type": "code",
   "execution_count": 1,
   "metadata": {},
   "outputs": [],
   "source": [
    "import os\n",
    "import geopandas as gpd\n",
    "import pandas as pd\n",
    "import subprocess\n",
    "import uuid"
   ]
  },
  {
   "cell_type": "code",
   "execution_count": 2,
   "metadata": {},
   "outputs": [],
   "source": [
    "# External data download directory\n",
    "raw_dir = \"../data/tabular/raw\"\n",
    "\n",
    "# Create raw data directory if it doesn't exist\n",
    "os.makedirs(raw_dir, exist_ok=True)"
   ]
  },
  {
   "cell_type": "markdown",
   "metadata": {},
   "source": [
    "# Source"
   ]
  },
  {
   "cell_type": "code",
   "execution_count": 3,
   "metadata": {},
   "outputs": [],
   "source": [
    "# list all sources of ground truth files\n",
    "src_presence = [\"gs://mpg-aerial-survey/ground_truth/horsepile/processed/horse_pile_presence.csv\"]\n",
    "src_absence = [\"gs://mpg-aerial-survey/ground_truth/horsepile/processed/horse_pile_absence.csv\"]"
   ]
  },
  {
   "cell_type": "code",
   "execution_count": null,
   "metadata": {},
   "outputs": [],
   "source": [
    "for file_path in src_presence:\n",
    "    dest_filename = os.path.join(raw_dir, os.path.basename(file_path))\n",
    "    subprocess.run([\n",
    "        \"gcloud\", \"storage\", \"cp\",\n",
    "        file_path,\n",
    "        dest_filename\n",
    "    ])\n",
    "    print(f\"Downloaded {file_path} to {dest_filename}\")\n",
    "\n",
    "# Download absence files\n",
    "for file_path in src_absence:\n",
    "    dest_filename = os.path.join(raw_dir, os.path.basename(file_path))\n",
    "    subprocess.run([\n",
    "        \"gcloud\", \"storage\", \"cp\",\n",
    "        file_path,\n",
    "        dest_filename\n",
    "    ])\n",
    "    print(f\"Downloaded {file_path} to {dest_filename}\")"
   ]
  },
  {
   "cell_type": "markdown",
   "metadata": {},
   "source": [
    "# Wrangle"
   ]
  },
  {
   "cell_type": "markdown",
   "metadata": {},
   "source": [
    "### Key metadata notes:\n",
    "- Point_Index\n",
    "- Presence\n",
    "- Zone\n",
    "- Period\n",
    "- Description\n",
    "- Datetime\n",
    "- Latitude\n",
    "- Longitude\n",
    "- Ellipsoidal height"
   ]
  },
  {
   "cell_type": "markdown",
   "metadata": {},
   "source": [
    "## Features"
   ]
  },
  {
   "cell_type": "code",
   "execution_count": 20,
   "metadata": {},
   "outputs": [],
   "source": [
    "# Read presence and absence files in DataFrames\n",
    "df_presence = pd.read_csv(os.path.join(raw_dir, \"horse_pile_presence.csv\"))\n",
    "df_absence = pd.read_csv(os.path.join(raw_dir, \"horse_pile_absence.csv\"))"
   ]
  },
  {
   "cell_type": "code",
   "execution_count": 21,
   "metadata": {},
   "outputs": [],
   "source": [
    "# Create presence/absence column (1 or 0)\n",
    "df_presence['Presence'] = 1\n",
    "df_absence['Presence'] = 0"
   ]
  },
  {
   "cell_type": "code",
   "execution_count": 22,
   "metadata": {},
   "outputs": [],
   "source": [
    "# Cast presence Averaging start to MST datetime and convert to UTC\n",
    "df_presence['Averaging start'] = pd.to_datetime(df_presence['Averaging start'], format='mixed')\n",
    "df_presence['Averaging start'] = df_presence['Averaging start'].dt.tz_convert('UTC')"
   ]
  },
  {
   "cell_type": "code",
   "execution_count": 23,
   "metadata": {},
   "outputs": [],
   "source": [
    "# Set absence Averaging start to 240724 12:00:00 MST cast to UTC datetime \n",
    "df_absence['Averaging start'] = pd.to_datetime('2024-07-24 12:00:00')  # Create naive datetime\n",
    "df_absence['Averaging start'] = df_absence['Averaging start'].dt.tz_localize('US/Mountain')  # Localize to MST\n",
    "df_absence['Averaging start'] = df_absence['Averaging start'].dt.tz_convert('UTC')  # Convert to UTC"
   ]
  },
  {
   "cell_type": "code",
   "execution_count": 24,
   "metadata": {},
   "outputs": [],
   "source": [
    "# Rename Averaging start to datetime\n",
    "df_presence.rename(columns={'Averaging start': 'Datetime'}, inplace=True)\n",
    "df_absence.rename(columns={'Averaging start': 'Datetime'}, inplace=True)"
   ]
  },
  {
   "cell_type": "code",
   "execution_count": 25,
   "metadata": {},
   "outputs": [],
   "source": [
    "# Create Point_Index column with p_\\d\\d\\d and a_\\d\\d\\d with \\d\\d\\d being the existing index\n",
    "df_presence['Point_Index'] = 'present_' + df_presence.index.astype(str).str.zfill(3)\n",
    "df_absence['Point_Index'] = 'absent_' + df_absence.index.astype(str).str.zfill(3)"
   ]
  },
  {
   "cell_type": "markdown",
   "metadata": {},
   "source": [
    "## Concatenate"
   ]
  },
  {
   "cell_type": "code",
   "execution_count": 32,
   "metadata": {},
   "outputs": [
    {
     "name": "stdout",
     "output_type": "stream",
     "text": [
      "Total records: 1600\n",
      "Presence records: 884\n",
      "Absence records: 716\n"
     ]
    }
   ],
   "source": [
    "# Concatenate presence and absence files\n",
    "df_ground_truth = pd.concat([df_presence, df_absence])\n",
    "\n",
    "# Print total records\n",
    "print(f\"Total records: {len(df_ground_truth)}\")\n",
    "print(f\"Presence records: {len(df_presence)}\")\n",
    "print(f\"Absence records: {len(df_absence)}\")\n"
   ]
  },
  {
   "cell_type": "code",
   "execution_count": 33,
   "metadata": {},
   "outputs": [],
   "source": [
    "# Keep relevant columns\n",
    "df_relevant = df_ground_truth[['Point_Index', 'Presence', 'Zone', 'Period', \n",
    "                               'Datetime', 'Latitude', 'Longitude', 'Ellipsoidal height']]"
   ]
  },
  {
   "cell_type": "code",
   "execution_count": 53,
   "metadata": {},
   "outputs": [
    {
     "name": "stdout",
     "output_type": "stream",
     "text": [
      "<class 'pandas.core.frame.DataFrame'>\n",
      "Index: 1600 entries, 0 to 715\n",
      "Data columns (total 8 columns):\n",
      " #   Column              Non-Null Count  Dtype              \n",
      "---  ------              --------------  -----              \n",
      " 0   Point_Index         1600 non-null   object             \n",
      " 1   Presence            1600 non-null   int64              \n",
      " 2   Zone                884 non-null    float64            \n",
      " 3   Period              884 non-null    float64            \n",
      " 4   Datetime            1600 non-null   datetime64[ns, UTC]\n",
      " 5   Latitude            1600 non-null   float64            \n",
      " 6   Longitude           1600 non-null   float64            \n",
      " 7   Ellipsoidal height  1600 non-null   float64            \n",
      "dtypes: datetime64[ns, UTC](1), float64(5), int64(1), object(1)\n",
      "memory usage: 112.5+ KB\n"
     ]
    }
   ],
   "source": [
    "df_relevant.info()"
   ]
  },
  {
   "cell_type": "code",
   "execution_count": 54,
   "metadata": {},
   "outputs": [
    {
     "data": {
      "text/html": [
       "<div>\n",
       "<style scoped>\n",
       "    .dataframe tbody tr th:only-of-type {\n",
       "        vertical-align: middle;\n",
       "    }\n",
       "\n",
       "    .dataframe tbody tr th {\n",
       "        vertical-align: top;\n",
       "    }\n",
       "\n",
       "    .dataframe thead th {\n",
       "        text-align: right;\n",
       "    }\n",
       "</style>\n",
       "<table border=\"1\" class=\"dataframe\">\n",
       "  <thead>\n",
       "    <tr style=\"text-align: right;\">\n",
       "      <th></th>\n",
       "      <th>Presence</th>\n",
       "      <th>Zone</th>\n",
       "      <th>Period</th>\n",
       "      <th>Datetime</th>\n",
       "      <th>Latitude</th>\n",
       "      <th>Longitude</th>\n",
       "      <th>Ellipsoidal height</th>\n",
       "    </tr>\n",
       "    <tr>\n",
       "      <th>index</th>\n",
       "      <th></th>\n",
       "      <th></th>\n",
       "      <th></th>\n",
       "      <th></th>\n",
       "      <th></th>\n",
       "      <th></th>\n",
       "      <th></th>\n",
       "    </tr>\n",
       "  </thead>\n",
       "  <tbody>\n",
       "    <tr>\n",
       "      <th>f3bb1f</th>\n",
       "      <td>1</td>\n",
       "      <td>1.0</td>\n",
       "      <td>1.0</td>\n",
       "      <td>2024-04-25 06:25:00.600000+00:00</td>\n",
       "      <td>46.678295</td>\n",
       "      <td>-114.007977</td>\n",
       "      <td>1182.161</td>\n",
       "    </tr>\n",
       "    <tr>\n",
       "      <th>699cc7</th>\n",
       "      <td>1</td>\n",
       "      <td>1.0</td>\n",
       "      <td>1.0</td>\n",
       "      <td>2024-04-25 06:25:24.200000+00:00</td>\n",
       "      <td>46.678261</td>\n",
       "      <td>-114.007970</td>\n",
       "      <td>1181.317</td>\n",
       "    </tr>\n",
       "    <tr>\n",
       "      <th>37a932</th>\n",
       "      <td>1</td>\n",
       "      <td>1.0</td>\n",
       "      <td>1.0</td>\n",
       "      <td>2024-04-25 06:26:14+00:00</td>\n",
       "      <td>46.678299</td>\n",
       "      <td>-114.008067</td>\n",
       "      <td>1181.695</td>\n",
       "    </tr>\n",
       "    <tr>\n",
       "      <th>40b8a4</th>\n",
       "      <td>1</td>\n",
       "      <td>1.0</td>\n",
       "      <td>1.0</td>\n",
       "      <td>2024-04-25 06:26:49.400000+00:00</td>\n",
       "      <td>46.678331</td>\n",
       "      <td>-114.008220</td>\n",
       "      <td>1180.652</td>\n",
       "    </tr>\n",
       "    <tr>\n",
       "      <th>75915b</th>\n",
       "      <td>1</td>\n",
       "      <td>1.0</td>\n",
       "      <td>1.0</td>\n",
       "      <td>2024-04-25 06:27:05.200000+00:00</td>\n",
       "      <td>46.678280</td>\n",
       "      <td>-114.008122</td>\n",
       "      <td>1180.683</td>\n",
       "    </tr>\n",
       "  </tbody>\n",
       "</table>\n",
       "</div>"
      ],
      "text/plain": [
       "        Presence  Zone  Period                         Datetime   Latitude  \\\n",
       "index                                                                        \n",
       "f3bb1f         1   1.0     1.0 2024-04-25 06:25:00.600000+00:00  46.678295   \n",
       "699cc7         1   1.0     1.0 2024-04-25 06:25:24.200000+00:00  46.678261   \n",
       "37a932         1   1.0     1.0        2024-04-25 06:26:14+00:00  46.678299   \n",
       "40b8a4         1   1.0     1.0 2024-04-25 06:26:49.400000+00:00  46.678331   \n",
       "75915b         1   1.0     1.0 2024-04-25 06:27:05.200000+00:00  46.678280   \n",
       "\n",
       "         Longitude  Ellipsoidal height  \n",
       "index                                   \n",
       "f3bb1f -114.007977            1182.161  \n",
       "699cc7 -114.007970            1181.317  \n",
       "37a932 -114.008067            1181.695  \n",
       "40b8a4 -114.008220            1180.652  \n",
       "75915b -114.008122            1180.683  "
      ]
     },
     "execution_count": 54,
     "metadata": {},
     "output_type": "execute_result"
    }
   ],
   "source": [
    "df_relevant.head()"
   ]
  },
  {
   "cell_type": "markdown",
   "metadata": {},
   "source": [
    "## Convert to geopandas dataframe\n",
    "Metadata as features, point geometry in EPSG:32611"
   ]
  },
  {
   "cell_type": "code",
   "execution_count": 48,
   "metadata": {},
   "outputs": [],
   "source": [
    "# Convert to geopandas dataframe\n",
    "gdf = gpd.GeoDataFrame(df_relevant, geometry=gpd.points_from_xy(df_relevant.Longitude, df_relevant.Latitude))\n",
    "# Set to WGS84 since that's what the coordinates are\n",
    "gdf.set_crs(epsg=4326, inplace=True)\n",
    "# Convert to UTM Zone 11N\n",
    "gdf_utm = gdf.to_crs(epsg=32611)"
   ]
  },
  {
   "cell_type": "code",
   "execution_count": 50,
   "metadata": {},
   "outputs": [],
   "source": [
    "# Use geopandas to create easting and northing columns from latitude and longitude\n",
    "gdf_utm['Easting'] = gdf_utm.geometry.x\n",
    "gdf_utm['Northing'] = gdf_utm.geometry.y"
   ]
  },
  {
   "cell_type": "code",
   "execution_count": 51,
   "metadata": {},
   "outputs": [],
   "source": [
    "# Reorder columns placing Latitude and Longitude and Easting and Northing next to each other\n",
    "gdf_utm = gdf_utm[['Point_Index', 'Presence', 'Zone', 'Period', 'Datetime', \n",
    "                   'Latitude', 'Longitude', 'Easting', 'Northing', \n",
    "                   'Ellipsoidal height', 'geometry']]"
   ]
  },
  {
   "cell_type": "code",
   "execution_count": 52,
   "metadata": {},
   "outputs": [
    {
     "name": "stdout",
     "output_type": "stream",
     "text": [
      "<class 'geopandas.geodataframe.GeoDataFrame'>\n",
      "Index: 1600 entries, 0 to 715\n",
      "Data columns (total 11 columns):\n",
      " #   Column              Non-Null Count  Dtype              \n",
      "---  ------              --------------  -----              \n",
      " 0   Point_Index         1600 non-null   object             \n",
      " 1   Presence            1600 non-null   int64              \n",
      " 2   Zone                884 non-null    float64            \n",
      " 3   Period              884 non-null    float64            \n",
      " 4   Datetime            1600 non-null   datetime64[ns, UTC]\n",
      " 5   Latitude            1600 non-null   float64            \n",
      " 6   Longitude           1600 non-null   float64            \n",
      " 7   Easting             1600 non-null   float64            \n",
      " 8   Northing            1600 non-null   float64            \n",
      " 9   Ellipsoidal height  1600 non-null   float64            \n",
      " 10  geometry            1600 non-null   geometry           \n",
      "dtypes: datetime64[ns, UTC](1), float64(7), geometry(1), int64(1), object(1)\n",
      "memory usage: 150.0+ KB\n"
     ]
    }
   ],
   "source": [
    "gdf_utm.info()"
   ]
  },
  {
   "cell_type": "code",
   "execution_count": 53,
   "metadata": {},
   "outputs": [
    {
     "data": {
      "text/html": [
       "<div>\n",
       "<style scoped>\n",
       "    .dataframe tbody tr th:only-of-type {\n",
       "        vertical-align: middle;\n",
       "    }\n",
       "\n",
       "    .dataframe tbody tr th {\n",
       "        vertical-align: top;\n",
       "    }\n",
       "\n",
       "    .dataframe thead th {\n",
       "        text-align: right;\n",
       "    }\n",
       "</style>\n",
       "<table border=\"1\" class=\"dataframe\">\n",
       "  <thead>\n",
       "    <tr style=\"text-align: right;\">\n",
       "      <th></th>\n",
       "      <th>Point_Index</th>\n",
       "      <th>Presence</th>\n",
       "      <th>Zone</th>\n",
       "      <th>Period</th>\n",
       "      <th>Datetime</th>\n",
       "      <th>Latitude</th>\n",
       "      <th>Longitude</th>\n",
       "      <th>Easting</th>\n",
       "      <th>Northing</th>\n",
       "      <th>Ellipsoidal height</th>\n",
       "      <th>geometry</th>\n",
       "    </tr>\n",
       "  </thead>\n",
       "  <tbody>\n",
       "    <tr>\n",
       "      <th>0</th>\n",
       "      <td>present_000</td>\n",
       "      <td>1</td>\n",
       "      <td>1.0</td>\n",
       "      <td>1.0</td>\n",
       "      <td>2024-04-25 06:25:00.600000+00:00</td>\n",
       "      <td>46.678295</td>\n",
       "      <td>-114.007977</td>\n",
       "      <td>728825.999020</td>\n",
       "      <td>5.173764e+06</td>\n",
       "      <td>1182.161</td>\n",
       "      <td>POINT (728825.999 5173763.794)</td>\n",
       "    </tr>\n",
       "    <tr>\n",
       "      <th>1</th>\n",
       "      <td>present_001</td>\n",
       "      <td>1</td>\n",
       "      <td>1.0</td>\n",
       "      <td>1.0</td>\n",
       "      <td>2024-04-25 06:25:24.200000+00:00</td>\n",
       "      <td>46.678261</td>\n",
       "      <td>-114.007970</td>\n",
       "      <td>728826.721929</td>\n",
       "      <td>5.173760e+06</td>\n",
       "      <td>1181.317</td>\n",
       "      <td>POINT (728826.722 5173760.049)</td>\n",
       "    </tr>\n",
       "    <tr>\n",
       "      <th>2</th>\n",
       "      <td>present_002</td>\n",
       "      <td>1</td>\n",
       "      <td>1.0</td>\n",
       "      <td>1.0</td>\n",
       "      <td>2024-04-25 06:26:14+00:00</td>\n",
       "      <td>46.678299</td>\n",
       "      <td>-114.008067</td>\n",
       "      <td>728819.157326</td>\n",
       "      <td>5.173764e+06</td>\n",
       "      <td>1181.695</td>\n",
       "      <td>POINT (728819.157 5173764.064)</td>\n",
       "    </tr>\n",
       "    <tr>\n",
       "      <th>3</th>\n",
       "      <td>present_003</td>\n",
       "      <td>1</td>\n",
       "      <td>1.0</td>\n",
       "      <td>1.0</td>\n",
       "      <td>2024-04-25 06:26:49.400000+00:00</td>\n",
       "      <td>46.678331</td>\n",
       "      <td>-114.008220</td>\n",
       "      <td>728807.322341</td>\n",
       "      <td>5.173767e+06</td>\n",
       "      <td>1180.652</td>\n",
       "      <td>POINT (728807.322 5173767.093)</td>\n",
       "    </tr>\n",
       "    <tr>\n",
       "      <th>4</th>\n",
       "      <td>present_004</td>\n",
       "      <td>1</td>\n",
       "      <td>1.0</td>\n",
       "      <td>1.0</td>\n",
       "      <td>2024-04-25 06:27:05.200000+00:00</td>\n",
       "      <td>46.678280</td>\n",
       "      <td>-114.008122</td>\n",
       "      <td>728814.979743</td>\n",
       "      <td>5.173762e+06</td>\n",
       "      <td>1180.683</td>\n",
       "      <td>POINT (728814.98 5173761.785)</td>\n",
       "    </tr>\n",
       "  </tbody>\n",
       "</table>\n",
       "</div>"
      ],
      "text/plain": [
       "   Point_Index  Presence  Zone  Period                         Datetime  \\\n",
       "0  present_000         1   1.0     1.0 2024-04-25 06:25:00.600000+00:00   \n",
       "1  present_001         1   1.0     1.0 2024-04-25 06:25:24.200000+00:00   \n",
       "2  present_002         1   1.0     1.0        2024-04-25 06:26:14+00:00   \n",
       "3  present_003         1   1.0     1.0 2024-04-25 06:26:49.400000+00:00   \n",
       "4  present_004         1   1.0     1.0 2024-04-25 06:27:05.200000+00:00   \n",
       "\n",
       "    Latitude   Longitude        Easting      Northing  Ellipsoidal height  \\\n",
       "0  46.678295 -114.007977  728825.999020  5.173764e+06            1182.161   \n",
       "1  46.678261 -114.007970  728826.721929  5.173760e+06            1181.317   \n",
       "2  46.678299 -114.008067  728819.157326  5.173764e+06            1181.695   \n",
       "3  46.678331 -114.008220  728807.322341  5.173767e+06            1180.652   \n",
       "4  46.678280 -114.008122  728814.979743  5.173762e+06            1180.683   \n",
       "\n",
       "                         geometry  \n",
       "0  POINT (728825.999 5173763.794)  \n",
       "1  POINT (728826.722 5173760.049)  \n",
       "2  POINT (728819.157 5173764.064)  \n",
       "3  POINT (728807.322 5173767.093)  \n",
       "4   POINT (728814.98 5173761.785)  "
      ]
     },
     "execution_count": 53,
     "metadata": {},
     "output_type": "execute_result"
    }
   ],
   "source": [
    "gdf_utm.head()"
   ]
  },
  {
   "cell_type": "markdown",
   "metadata": {},
   "source": [
    "# Export"
   ]
  },
  {
   "cell_type": "code",
   "execution_count": 61,
   "metadata": {},
   "outputs": [],
   "source": [
    "# Export to data/processed/vector/groundtruth.geojson\n",
    "processed_dir = \"../data/processed\"\n",
    "gdf_utm.to_file(os.path.join(processed_dir, \"vector\", \"groundtruth.geojson\"), driver=\"GeoJSON\")"
   ]
  },
  {
   "cell_type": "markdown",
   "metadata": {},
   "source": [
    "## save as geojson in data/vector/groundtruth.geojson\n"
   ]
  }
 ],
 "metadata": {
  "kernelspec": {
   "display_name": "mpg-horses",
   "language": "python",
   "name": "python3"
  },
  "language_info": {
   "codemirror_mode": {
    "name": "ipython",
    "version": 3
   },
   "file_extension": ".py",
   "mimetype": "text/x-python",
   "name": "python",
   "nbconvert_exporter": "python",
   "pygments_lexer": "ipython3",
   "version": "3.13.1"
  }
 },
 "nbformat": 4,
 "nbformat_minor": 2
}
