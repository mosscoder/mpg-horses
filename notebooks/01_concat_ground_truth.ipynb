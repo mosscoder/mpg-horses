{
 "cells": [
  {
   "cell_type": "code",
   "execution_count": null,
   "metadata": {},
   "outputs": [],
   "source": [
    "#list all sources of ground truth files\n",
    "#concatenate ground truth and relevant metadata (see below)\n",
    "#convert to geopandas dataframe with metadata as features, point geometry in EPSG:32611\n",
    "#save as geojson in data/vector/groundtruth.geojson\n",
    "\n",
    "#*key metadata:\n",
    "# - datetime (YYYYMMDDHHMMSS)\n",
    "# - presence/absence (1 or 0)\n",
    "# - easting (epsg:32611)\n",
    "# - northing (epsg:32611)\n",
    "# - latitude (epsg:4326)\n",
    "# - longitude (epsg:4326"
   ]
  }
 ],
 "metadata": {
  "language_info": {
   "name": "python"
  }
 },
 "nbformat": 4,
 "nbformat_minor": 2
}
