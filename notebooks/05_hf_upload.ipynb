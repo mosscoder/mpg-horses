{
 "cells": [
  {
   "cell_type": "code",
   "execution_count": null,
   "metadata": {},
   "outputs": [],
   "source": [
    "from huggingface_hub import HfApi\n",
    "import os\n",
    "\n",
    "# Initialize the API\n",
    "api = HfApi()\n",
    "repo_id = \"mpg-ranch/horse-detection\"\n",
    "\n",
    "# Ensure the repository exists\n",
    "api.create_repo(repo_id=repo_id, repo_type=\"dataset\", exist_ok=True)\n",
    "\n",
    "# Get all parquet files\n",
    "hf_data_dir = \"../data/hf\"\n",
    "parquet_files = [f for f in os.listdir(hf_data_dir) if f.endswith(\".parquet\")]\n",
    "\n",
    "# Upload all parquet files to data/\n",
    "for file in parquet_files:\n",
    "    api.upload_file(\n",
    "        path_or_fileobj=f\"{hf_data_dir}/{file}\",\n",
    "        path_in_repo=f\"data/{file}\",\n",
    "        repo_id=repo_id,\n",
    "        repo_type=\"dataset\"\n",
    "    )\n",
    "    print(f\"Uploaded data/{file}\")\n",
    "\n",
    "print(\"Dataset uploaded to HF Hub successfully\")"
   ]
  }
 ],
 "metadata": {
  "kernelspec": {
   "display_name": "mpg-horses",
   "language": "python",
   "name": "python3"
  },
  "language_info": {
   "name": "python",
   "version": "3.13.1"
  }
 },
 "nbformat": 4,
 "nbformat_minor": 2
}
